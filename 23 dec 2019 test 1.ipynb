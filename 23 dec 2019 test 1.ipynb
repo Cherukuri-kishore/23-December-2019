{
 "cells": [
  {
   "cell_type": "markdown",
   "metadata": {},
   "source": [
    "# 1. Import numpy as np and print the version number"
   ]
  },
  {
   "cell_type": "code",
   "execution_count": 1,
   "metadata": {},
   "outputs": [
    {
     "data": {
      "text/plain": [
       "<module 'numpy.version' from 'C:\\\\ProgramData\\\\Anaconda3\\\\lib\\\\site-packages\\\\numpy\\\\version.py'>"
      ]
     },
     "execution_count": 1,
     "metadata": {},
     "output_type": "execute_result"
    }
   ],
   "source": [
    "import numpy as np\n",
    "a=np.version\n",
    "a"
   ]
  },
  {
   "cell_type": "markdown",
   "metadata": {},
   "source": [
    "# 2. Create a 1D array of numbers from 0 to 9"
   ]
  },
  {
   "cell_type": "code",
   "execution_count": 2,
   "metadata": {},
   "outputs": [
    {
     "data": {
      "text/plain": [
       "array([0, 1, 2, 3, 4, 5, 6, 7, 8, 9])"
      ]
     },
     "execution_count": 2,
     "metadata": {},
     "output_type": "execute_result"
    }
   ],
   "source": [
    "arr=np.arange(10)\n",
    "arr"
   ]
  },
  {
   "cell_type": "markdown",
   "metadata": {},
   "source": [
    "# 3. Create a 3×3 numpy array of all True’s(1's)"
   ]
  },
  {
   "cell_type": "code",
   "execution_count": 11,
   "metadata": {},
   "outputs": [
    {
     "data": {
      "text/plain": [
       "array([[1., 1., 1.],\n",
       "       [1., 1., 1.],\n",
       "       [1., 1., 1.]])"
      ]
     },
     "execution_count": 11,
     "metadata": {},
     "output_type": "execute_result"
    }
   ],
   "source": [
    "d=np.ones((3,3))\n",
    "d"
   ]
  },
  {
   "cell_type": "markdown",
   "metadata": {},
   "source": [
    "# 4. Convert a 1D array to a 2D array with 2 rows"
   ]
  },
  {
   "cell_type": "code",
   "execution_count": 5,
   "metadata": {},
   "outputs": [
    {
     "data": {
      "text/plain": [
       "array([[0, 1, 2],\n",
       "       [3, 4, 5]])"
      ]
     },
     "execution_count": 5,
     "metadata": {},
     "output_type": "execute_result"
    }
   ],
   "source": [
    "a1=np.arange(6)\n",
    "a1.reshape(2,3)"
   ]
  },
  {
   "cell_type": "markdown",
   "metadata": {},
   "source": [
    "# 5. Write a NumPy program to generate six random integers between 10 and 30"
   ]
  },
  {
   "cell_type": "code",
   "execution_count": 6,
   "metadata": {},
   "outputs": [
    {
     "data": {
      "text/plain": [
       "array([27, 29, 11, 11, 12, 23])"
      ]
     },
     "execution_count": 6,
     "metadata": {},
     "output_type": "execute_result"
    }
   ],
   "source": [
    "b=np.random.randint(10,30,6)\n",
    "b"
   ]
  },
  {
   "cell_type": "markdown",
   "metadata": {},
   "source": [
    "# 6. Write a NumPy program to create a 3x3x3 array with random values"
   ]
  },
  {
   "cell_type": "code",
   "execution_count": 9,
   "metadata": {},
   "outputs": [
    {
     "data": {
      "text/plain": [
       "array([[[ 2.02266472, -0.19374826, -1.03653118],\n",
       "        [ 0.04785362,  0.19335021,  0.73859827],\n",
       "        [-0.52487087,  0.00780765, -0.78245933]],\n",
       "\n",
       "       [[ 0.17499873, -1.82531631,  0.5640999 ],\n",
       "        [-0.1306868 ,  1.13186081, -1.06613758],\n",
       "        [ 0.21336868,  0.07283594, -1.02114484]],\n",
       "\n",
       "       [[ 0.06905073,  0.2241362 , -0.78233451],\n",
       "        [ 1.04097471,  1.36179534, -2.57810739],\n",
       "        [-0.33479416, -1.23486767,  0.78391464]]])"
      ]
     },
     "execution_count": 9,
     "metadata": {},
     "output_type": "execute_result"
    }
   ],
   "source": [
    "c=np.random.randn(3,3,3)\n",
    "c"
   ]
  },
  {
   "cell_type": "markdown",
   "metadata": {},
   "source": [
    "# 7.Write a NumPy program to create a 5x5 array with random values and find the minimum and maximum values"
   ]
  },
  {
   "cell_type": "code",
   "execution_count": 12,
   "metadata": {},
   "outputs": [
    {
     "name": "stdout",
     "output_type": "stream",
     "text": [
      "[[-1.09527878 -1.07398599 -0.76879593 -0.34922734  0.23579234]\n",
      " [ 1.26070392  0.21738033  1.17030429  0.5086524  -0.3671393 ]\n",
      " [ 0.99779455 -0.57462711  0.65824411  1.32860043 -0.0611062 ]\n",
      " [ 0.51663974  0.64398144 -0.61900048  0.82276022  0.41197547]\n",
      " [-0.05012197  0.88771071 -0.19303313  1.43775566 -0.00893722]]\n",
      "-1.0952787789939857\n",
      "1.4377556561831952\n"
     ]
    }
   ],
   "source": [
    "e=np.random.randn(5,5)\n",
    "print(e)\n",
    "mini=e.min()\n",
    "maxi=e.max()\n",
    "print(mini)\n",
    "print(maxi)"
   ]
  },
  {
   "cell_type": "markdown",
   "metadata": {},
   "source": [
    "# 8 Write a NumPy program to create a random 10x4 array and extract the first five rows of the array and store them into a variable"
   ]
  },
  {
   "cell_type": "code",
   "execution_count": 23,
   "metadata": {},
   "outputs": [
    {
     "name": "stdout",
     "output_type": "stream",
     "text": [
      "[[-1.71809158 -1.25018732  2.59566589 -1.53704393]\n",
      " [ 0.3540681   0.15179786 -1.71607214 -0.58287508]\n",
      " [-3.02602607 -0.7525833   0.28296772 -1.69126457]\n",
      " [-0.40644737 -1.16873644  1.5416283   0.68222022]\n",
      " [ 2.06178781 -0.62487866 -0.46298168  1.25286225]\n",
      " [-0.94055232 -0.43910013 -0.25215631  0.32534614]\n",
      " [ 0.03350268 -0.57200146 -1.4003185  -0.48558299]\n",
      " [ 0.50593826 -0.60794389 -0.42900376  1.2133132 ]\n",
      " [-0.7657191   0.0329503   0.52507654  1.97944006]\n",
      " [ 0.67648648  0.24209978  0.53316907  1.86288187]]\n"
     ]
    },
    {
     "data": {
      "text/plain": [
       "[array([[-1.71809158, -1.25018732,  2.59566589, -1.53704393],\n",
       "        [ 0.3540681 ,  0.15179786, -1.71607214, -0.58287508],\n",
       "        [-3.02602607, -0.7525833 ,  0.28296772, -1.69126457],\n",
       "        [-0.40644737, -1.16873644,  1.5416283 ,  0.68222022],\n",
       "        [ 2.06178781, -0.62487866, -0.46298168,  1.25286225]]),\n",
       " array([[-0.94055232, -0.43910013, -0.25215631,  0.32534614],\n",
       "        [ 0.03350268, -0.57200146, -1.4003185 , -0.48558299],\n",
       "        [ 0.50593826, -0.60794389, -0.42900376,  1.2133132 ],\n",
       "        [-0.7657191 ,  0.0329503 ,  0.52507654,  1.97944006],\n",
       "        [ 0.67648648,  0.24209978,  0.53316907,  1.86288187]])]"
      ]
     },
     "execution_count": 23,
     "metadata": {},
     "output_type": "execute_result"
    }
   ],
   "source": [
    "f=np.random.randn(10,4)\n",
    "print(f)\n",
    "g=np.split(f,[5])\n",
    "g"
   ]
  },
  {
   "cell_type": "markdown",
   "metadata": {},
   "source": [
    "# 9.How to reverse the rows of a 2D array?"
   ]
  },
  {
   "cell_type": "code",
   "execution_count": 28,
   "metadata": {},
   "outputs": [
    {
     "data": {
      "text/plain": [
       "array([[3, 4, 5],\n",
       "       [2, 3, 4],\n",
       "       [1, 2, 3]])"
      ]
     },
     "execution_count": 28,
     "metadata": {},
     "output_type": "execute_result"
    }
   ],
   "source": [
    "h= np.array([[1,2,3], [2,3,4], [3,4,5]])\n",
    "i=np.flip(h,axis=0)\n",
    "i"
   ]
  },
  {
   "cell_type": "markdown",
   "metadata": {},
   "source": [
    "# 10. Create 1D array with random numbers and replace all odd numbers in arr with -1"
   ]
  },
  {
   "cell_type": "code",
   "execution_count": 43,
   "metadata": {},
   "outputs": [
    {
     "name": "stdout",
     "output_type": "stream",
     "text": [
      "[ 0 -1  2 -1  4 -1  6 -1  8 -1]\n"
     ]
    }
   ],
   "source": [
    "j=np.arange(10)\n",
    "for i in range(len(j)):\n",
    "    if j[i]%2!=0:\n",
    "        j[i]=-1\n",
    "print(j)"
   ]
  },
  {
   "cell_type": "code",
   "execution_count": null,
   "metadata": {},
   "outputs": [],
   "source": []
  }
 ],
 "metadata": {
  "kernelspec": {
   "display_name": "Python 3",
   "language": "python",
   "name": "python3"
  },
  "language_info": {
   "codemirror_mode": {
    "name": "ipython",
    "version": 3
   },
   "file_extension": ".py",
   "mimetype": "text/x-python",
   "name": "python",
   "nbconvert_exporter": "python",
   "pygments_lexer": "ipython3",
   "version": "3.7.3"
  }
 },
 "nbformat": 4,
 "nbformat_minor": 2
}
